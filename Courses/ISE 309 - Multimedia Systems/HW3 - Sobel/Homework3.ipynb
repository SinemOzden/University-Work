{
 "cells": [
  {
   "cell_type": "code",
   "execution_count": 1,
   "metadata": {},
   "outputs": [],
   "source": [
    "import cv2\n",
    "import numpy as np\n",
    "import glob\n",
    "import os\n",
    "import matplotlib.pyplot as plt"
   ]
  },
  {
   "cell_type": "code",
   "execution_count": 2,
   "metadata": {},
   "outputs": [],
   "source": [
    "img_dir = \"sample_images1\" # Enter Directory of all images \n",
    "data_path = os.path.join(img_dir,'*')\n",
    "img_files = glob.glob(data_path)"
   ]
  },
  {
   "cell_type": "code",
   "execution_count": 3,
   "metadata": {},
   "outputs": [],
   "source": [
    "#read pictures\n",
    "shape_list = []\n",
    "for i in img_files:\n",
    "    img = cv2.imread(i,cv2.IMREAD_GRAYSCALE)\n",
    "    shape_list.append(img)"
   ]
  },
  {
   "cell_type": "code",
   "execution_count": 4,
   "metadata": {},
   "outputs": [],
   "source": [
    "#kernels\n",
    "kernelx =  np.zeros((3,3), dtype=np.float64)\n",
    "kernely =  np.zeros((3,3), dtype=np.float64)\n",
    "\n",
    "#gradient x kernel\n",
    "kernelx[1][0] = 1\n",
    "kernelx[1][1] = -1\n",
    "\n",
    "#gradient y kernel\n",
    "kernely[1][1] = -1\n",
    "kernely[1][2] = 1\n",
    "\n",
    "#sobels\n",
    "sobel_x = np.array([[-1, 0 ,1], [-2 ,0 ,2], [-1, 0, 1]], dtype=np.float64)/8\n",
    "sobel_y = np.array([[-1, -2 ,-1], [0 ,0 ,0], [1, 2, 1]], dtype=np.float64)/8"
   ]
  },
  {
   "cell_type": "code",
   "execution_count": 5,
   "metadata": {},
   "outputs": [],
   "source": [
    "def FlipKernel(kernel):\n",
    "    flip_kernel = np.zeros(kernel.shape, dtype=np.float64)#empty matrix\n",
    "    \n",
    "    for i in range(kernel.shape[0],0,-1):\n",
    "        for j in range(kernel.shape[1],0,-1):\n",
    "            flip_kernel[i-1][j-1] = kernel[kernel.shape[0]-i][kernel.shape[1]-j]#write kernel in reverse order\n",
    "            \n",
    "    return flip_kernel"
   ]
  },
  {
   "cell_type": "code",
   "execution_count": 6,
   "metadata": {},
   "outputs": [],
   "source": [
    "def Convolution(image, kernel):\n",
    "    img_h, img_w = image.shape\n",
    "    filter_size = kernel.shape[0]\n",
    "\n",
    "    #add padding\n",
    "    padding = int((kernel.shape[0]-1)/2)\n",
    "    padding_add = int(padding*2)\n",
    "    input_image_with_padding = np.zeros([image.shape[0]+padding_add, image.shape[1]+padding_add])\n",
    "    input_image_with_padding[padding:img_h+padding, padding:img_w+padding] = image[:,:]\n",
    "\n",
    "    #flip the kernel\n",
    "    flip_filter = FlipKernel(kernel)\n",
    "\n",
    "    #creeate empty image\n",
    "    output_img = np.zeros(image.shape, dtype=image.dtype)\n",
    "\n",
    "    #convolution\n",
    "    for i in range(img_h):\n",
    "        for j in range(img_w):\n",
    "            temp = input_image_with_padding[i:i+filter_size, j:j+filter_size]\n",
    "            output_img[i,j] = np.uint8(np.sum(np.double(temp)*np.double(flip_filter)))\n",
    "        if i%100==0:# to track process\n",
    "            print(img_h-i,end=\" \")\n",
    "    return output_img"
   ]
  },
  {
   "cell_type": "code",
   "execution_count": 22,
   "metadata": {},
   "outputs": [
    {
     "name": "stdout",
     "output_type": "stream",
     "text": [
      "512 412 312 212 112 12 208 108 8 1366 1266 1166 1066 966 866 766 666 566 466 366 266 166 66 done\n"
     ]
    }
   ],
   "source": [
    "#gradiant x\n",
    "gradX = []\n",
    "for img in shape_list:#traverse all images\n",
    "    new_img = Convolution(img,kernelx)\n",
    "    \n",
    "    gradX.append(new_img)\n",
    "    \n",
    "    cv2.imshow('gradiant x', np.uint8(new_img))\n",
    "    cv2.waitKey(0)\n",
    "    cv2.destroyAllWindows()\n",
    "print('done')"
   ]
  },
  {
   "cell_type": "code",
   "execution_count": 7,
   "metadata": {},
   "outputs": [
    {
     "name": "stdout",
     "output_type": "stream",
     "text": [
      "512 412 312 212 112 12 208 108 8 1366 1266 1166 1066 966 866 766 666 566 466 366 266 166 66 done\n"
     ]
    }
   ],
   "source": [
    "#gradiant y\n",
    "gradY = []\n",
    "for img in shape_list:#traverse all images\n",
    "    new_img = Convolution(img,kernely)\n",
    "    \n",
    "    gradY.append(new_img)\n",
    "    \n",
    "    cv2.imshow('gradiant y', np.uint8(new_img))\n",
    "    cv2.waitKey(0)\n",
    "    cv2.destroyAllWindows() \n",
    "print('done')"
   ]
  },
  {
   "cell_type": "code",
   "execution_count": 23,
   "metadata": {},
   "outputs": [],
   "source": [
    "#gradiant magnitude\n",
    "for i in range(len(gradX)):#traverse all images\n",
    "    image_magnitude = gradX[i]+gradY[i]\n",
    "\n",
    "    abs_mag = cv2.normalize(image_magnitude, 0, 255, norm_type=cv2.NORM_MINMAX, dtype=cv2.CV_8UC1)\n",
    "\n",
    "    cv2.imshow('gradiant magnitude', np.uint8(abs_mag))\n",
    "    cv2.waitKey(0)\n",
    "    cv2.destroyAllWindows()"
   ]
  },
  {
   "cell_type": "code",
   "execution_count": 24,
   "metadata": {},
   "outputs": [
    {
     "name": "stdout",
     "output_type": "stream",
     "text": [
      "512 412 312 212 112 12 208 108 8 1366 1266 1166 1066 966 866 766 666 566 466 366 266 166 66 done\n"
     ]
    }
   ],
   "source": [
    "#sobel x\n",
    "sobelX = []\n",
    "for img in shape_list:#traverse all images\n",
    "    new_img = Convolution(img,sobel_x)\n",
    "    \n",
    "    sobelX.append(new_img)\n",
    "    \n",
    "    cv2.imshow('sobel x', np.uint8(new_img))\n",
    "    cv2.waitKey(0)\n",
    "    cv2.destroyAllWindows()\n",
    "print('done')"
   ]
  },
  {
   "cell_type": "code",
   "execution_count": 25,
   "metadata": {},
   "outputs": [
    {
     "name": "stdout",
     "output_type": "stream",
     "text": [
      "512 412 312 212 112 12 208 108 8 1366 1266 1166 1066 966 866 766 666 566 466 366 266 166 66 done\n"
     ]
    }
   ],
   "source": [
    "#sobel y\n",
    "sobelY = []\n",
    "for img in shape_list:#traverse all images\n",
    "    new_img = Convolution(img,sobel_y)\n",
    "    \n",
    "    sobelY.append(new_img)\n",
    "    \n",
    "    cv2.imshow('#sobel y', np.uint8(new_img))\n",
    "    cv2.waitKey(0)\n",
    "    cv2.destroyAllWindows()\n",
    "print('done')"
   ]
  },
  {
   "cell_type": "code",
   "execution_count": 13,
   "metadata": {},
   "outputs": [],
   "source": [
    "#magnitude sobel\n",
    "for i in range(len(sobelX)):#traverse all images\n",
    "    image_magnitude = sobelX[i]+sobelY[i]\n",
    "\n",
    "    abs_mag = cv2.normalize(image_magnitude, 0, 255, norm_type=cv2.NORM_MINMAX)\n",
    "\n",
    "    cv2.imshow('magnitude sobel', np.uint8(abs_mag))\n",
    "    cv2.waitKey(0)\n",
    "    cv2.destroyAllWindows()"
   ]
  },
  {
   "cell_type": "code",
   "execution_count": 14,
   "metadata": {},
   "outputs": [],
   "source": [
    "img_dir = \"sample_images2\" # Enter Directory of all images \n",
    "data_path = os.path.join(img_dir,'*')\n",
    "img_files2 = glob.glob(data_path)\n",
    "#read pictures\n",
    "shape_list2 = []\n",
    "for i in img_files2:\n",
    "    img2 = cv2.imread(i,cv2.IMREAD_GRAYSCALE)\n",
    "    shape_list2.append(img2)"
   ]
  },
  {
   "cell_type": "code",
   "execution_count": 15,
   "metadata": {},
   "outputs": [],
   "source": [
    "#0-128 siyah 128-256\n",
    "def threshold(plot):\n",
    "    weight_black = np.cumsum(plot[:128])#cummulative summation\n",
    "    weight_white = np.cumsum(plot[128:])\n",
    "    \n",
    "    mean_black = np.cumsum(plot[:128]*6)/weight_black[-1]#mean value\n",
    "    mean_white = np.cumsum(plot[128:]*6)/weight_white[-1]\n",
    "    \n",
    "    variance = weight_black * weight_white * (mean_black - mean_white)**2#varience\n",
    "    max_var=np.argmax(variance)#biggest value of variance\n",
    "    \n",
    "    #dont let threashold to be compeletly black or white\n",
    "    if(max_var==255):\n",
    "        max_var -=1\n",
    "    elif(max_var==0):\n",
    "        max_var +=1\n",
    "    \n",
    "    return max_var"
   ]
  },
  {
   "cell_type": "code",
   "execution_count": 16,
   "metadata": {},
   "outputs": [],
   "source": [
    "def applyThreshold (img, plot,flag):\n",
    "    empt_img = np.zeros(img.shape,dtype = np.int8)#create empty image\n",
    "    \n",
    "    if flag==-1:#treashold will be found auto\n",
    "        T = threshold(plot)\n",
    "    else:#threashold value is given\n",
    "        T=flag\n",
    "    \n",
    "    #apply threashold\n",
    "    for row in range(img.shape[0]):\n",
    "        for col in range(img.shape[1]):\n",
    "            color = img[row][col]\n",
    "            if T>=color:\n",
    "                empt_img[row][col] = 0\n",
    "            else:\n",
    "                empt_img[row][col]=255\n",
    "    return empt_img"
   ]
  },
  {
   "cell_type": "code",
   "execution_count": 27,
   "metadata": {},
   "outputs": [
    {
     "data": {
      "image/png": "[encoded data removed]",
      "text/plain": [
       "<Figure size 432x288 with 1 Axes>"
      ]
     },
     "metadata": {
      "needs_background": "light"
     },
     "output_type": "display_data"
    },
    {
     "data": {
      "image/png": "[encoded data removed]",
      "text/plain": [
       "<Figure size 432x288 with 1 Axes>"
      ]
     },
     "metadata": {
      "needs_background": "light"
     },
     "output_type": "display_data"
    }
   ],
   "source": [
    "#Question 3  Plot the histogram\n",
    "histog = []\n",
    "i=0\n",
    "for img in shape_list2:\n",
    "    histog.append(np.zeros(256))\n",
    "    for row in range(img.shape[0]):#distingues colors of the images in to an array\n",
    "        for col in range(img.shape[1]):\n",
    "            color = img[row][col]\n",
    "            histog[i][color]+=1\n",
    "            \n",
    "    plt.plot(histog[i])\n",
    "    plt.xlabel('color')\n",
    "    plt.ylabel('number')\n",
    "    plt.show()\n",
    "    i+=1"
   ]
  },
  {
   "cell_type": "code",
   "execution_count": 21,
   "metadata": {},
   "outputs": [],
   "source": [
    "thold_Imgs = []\n",
    "for j in range(len(shape_list2)):\n",
    "    new_img = applyThreshold(shape_list2[j], histog[j],-1)\n",
    "    thold_Imgs.append(new_img)\n",
    "    \n",
    "    cv2.imshow('Threshold', np.hstack((np.uint8(shape_list2[j]), np.uint8(new_img))))\n",
    "    cv2.waitKey(0)\n",
    "    cv2.destroyAllWindows()"
   ]
  },
  {
   "cell_type": "code",
   "execution_count": 19,
   "metadata": {},
   "outputs": [],
   "source": [
    "#ground truthla treashholdlu resmin pixellerini karsilastir farkliysa false count++\n",
    "ground_truth = thold_Imgs[1]\n",
    "tHoldImgT = thold_Imgs[0]\n",
    "\n",
    "tpr = []\n",
    "fpr = []\n",
    "\n",
    "for i in range(0,256,16):#different threashold values\n",
    "    tHoldImg = applyThreshold(shape_list2[0],histog[0],i)\n",
    "    truePos=0\n",
    "    trueNeg=0\n",
    "    falsePos=0\n",
    "    falseNeg=0\n",
    "    for row in range(ground_truth.shape[0]):\n",
    "        for col in range(ground_truth.shape[1]):\n",
    "            if ground_truth[row][col] == tHoldImg[row][col]:#image values are same: true\n",
    "                if ground_truth[row][col]==-1:\n",
    "                    trueNeg+=1 #negative value\n",
    "                else:\n",
    "                    truePos+=1 #positive value\n",
    "            else:#image values are different: false\n",
    "                if ground_truth[row][col]==-1:\n",
    "                    falsePos+=1 #negative value\n",
    "                else:\n",
    "                    falseNeg+=1 #positive value\n",
    "    pos = truePos + falseNeg\n",
    "    neg = trueNeg + falsePos\n",
    "    \n",
    "    posr = truePos/pos\n",
    "    negr = falsePos/neg\n",
    "    \n",
    "    tpr.append(posr)\n",
    "    fpr.append(negr)\n",
    "    "
   ]
  },
  {
   "cell_type": "code",
   "execution_count": 28,
   "metadata": {},
   "outputs": [
    {
     "data": {
      "image/png": "[encoded data removed]",
      "text/plain": [
       "<Figure size 432x288 with 1 Axes>"
      ]
     },
     "metadata": {
      "needs_background": "light"
     },
     "output_type": "display_data"
    }
   ],
   "source": [
    "plt.plot(fpr,tpr)\n",
    "plt.xlabel('falsePos')\n",
    "plt.ylabel('truePos')\n",
    "plt.show() "
   ]
  },
  {
   "cell_type": "code",
   "execution_count": null,
   "metadata": {},
   "outputs": [],
   "source": []
  }
 ],
 "metadata": {
  "kernelspec": {
   "display_name": "Python 3",
   "language": "python",
   "name": "python3"
  },
  "language_info": {
   "codemirror_mode": {
    "name": "ipython",
    "version": 3
   },
   "file_extension": ".py",
   "mimetype": "text/x-python",
   "name": "python",
   "nbconvert_exporter": "python",
   "pygments_lexer": "ipython3",
   "version": "3.7.1"
  }
 },
 "nbformat": 4,
 "nbformat_minor": 2
}
