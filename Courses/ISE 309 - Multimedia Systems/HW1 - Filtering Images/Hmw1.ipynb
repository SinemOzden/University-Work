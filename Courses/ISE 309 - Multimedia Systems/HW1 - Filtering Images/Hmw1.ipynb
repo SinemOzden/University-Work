{
 "cells": [
  {
   "cell_type": "code",
   "execution_count": 1,
   "metadata": {},
   "outputs": [],
   "source": [
    "import cv2\n",
    "import numpy as np\n",
    "import matplotlib.pyplot as plt\n",
    "import glob\n",
    "import os\n",
    "import statistics"
   ]
  },
  {
   "cell_type": "code",
   "execution_count": 2,
   "metadata": {},
   "outputs": [],
   "source": [
    "img_dir = \"sample_images\" # Enter Directory of all images \n",
    "data_path = os.path.join(img_dir,'*')\n",
    "img_files = glob.glob(data_path)"
   ]
  },
  {
   "cell_type": "code",
   "execution_count": 3,
   "metadata": {},
   "outputs": [],
   "source": [
    "#read pictures\n",
    "shape_list = []\n",
    "pad_list = []\n",
    "for i in img_files:\n",
    "    img = cv2.imread(i,cv2.IMREAD_GRAYSCALE)\n",
    "    shape_list.append(img)\n",
    "#add padd\n",
    "for i in img_files:\n",
    "    img = cv2.imread(i,cv2.IMREAD_GRAYSCALE)\n",
    "    img3 = np.pad(img, pad_width=1, mode = 'constant', constant_values = 0)#adding 1 pixel pad\n",
    "    img5 = np.pad(img, pad_width=2, mode = 'constant', constant_values = 0)#adding 2 pixel pad\n",
    "    img7 = np.pad(img, pad_width=3, mode = 'constant', constant_values = 0)#adding 3 pixel pad\n",
    "    img11 = np.pad(img, pad_width=5, mode = 'constant', constant_values = 0)#adding 5pixel pad\n",
    "    \n",
    "    #add padded pictures to a list\n",
    "    pad_list.append(img3)\n",
    "    pad_list.append(img5)\n",
    "    pad_list.append(img7)\n",
    "    pad_list.append(img11)"
   ]
  },
  {
   "cell_type": "code",
   "execution_count": 4,
   "metadata": {},
   "outputs": [],
   "source": [
    "#creating kernels\n",
    "#kernel bluring\n",
    "kernel3 =  np.ones((3,3),np.float32)/9\n",
    "kernel5 =  np.ones((5,5),np.float32)/25\n",
    "kernel7 =  np.ones((7,7),np.float32)/49\n",
    "kernel11 = np.ones((11,11),np.float32)/121\n",
    "\n",
    "#kernel shifting up\n",
    "shift_up_kernel = np.zeros((5,5),np.float32)\n",
    "shift_up_kernel[4][2] = 1\n",
    "\n",
    "#kernel shifting right\n",
    "shift_right_kernel = np.zeros((7,7),np.float32)\n",
    "shift_right_kernel[3][0] = 1\n",
    "\n",
    "#kernel for sharpening\n",
    "kernel_sharp = np.zeros((3,3),np.float32)\n",
    "kernel_sharp[1][1] = 2\n",
    "kernel_sharp = kernel_sharp - kernel3\n",
    "\n",
    "#list for median\n",
    "kernel_median = [0]*9"
   ]
  },
  {
   "cell_type": "code",
   "execution_count": 5,
   "metadata": {},
   "outputs": [],
   "source": [
    "#creating new image\n",
    "#listede 1 resmin 5 farkli cesidi var 5 e bol kac resim oldugunu bulmak icin\n",
    "new_image = []\n",
    "for i in range(len(pad_list)):\n",
    "    x_k = pad_list[i].shape[0]#istedigin image\n",
    "    y_k = pad_list[i].shape[1]\n",
    "    new_image.append(np.zeros((x_k,y_k),np.uint8))#tupplellardan boyut al"
   ]
  },
  {
   "cell_type": "code",
   "execution_count": 6,
   "metadata": {},
   "outputs": [],
   "source": [
    "def apply_kernel(i, j,kernel_size,img_num,isShift):\n",
    "    summ=0\n",
    "    prod=0\n",
    "    kernel_index = 0\n",
    "    s=0\n",
    "    for k in range(kernel_size):#row of kernel\n",
    "        for l in range(kernel_size):#column of kernel\n",
    "            img = pad_list[img_num*4+kernel_num]#right padded image\n",
    "            if isShift==1:#shift up\n",
    "                kernel_index = shift_up_kernel[k][l]#finding item in kernel\n",
    "            elif isShift==2:#shift right\n",
    "                kernel_index = shift_right_kernel[k][l]#finding item in kernel\n",
    "            elif isShift==3:#sharping\n",
    "                kernel_index = kernel_sharp[k][l]#finding item in kernel\n",
    "            elif isShift == 4:#salt and pepper filter\n",
    "                kernel_median[s] = img[i+k][j+l]#adding item in kernel\n",
    "                s+=1\n",
    "            else:\n",
    "                if kernel_size==3:\n",
    "                    kernel_index = kernel3[k][l]#finding item in kernel\n",
    "                elif kernel_size==5:\n",
    "                    kernel_index = kernel5[k][l]#finding item in kernel\n",
    "                elif kernel_size==7:\n",
    "                    kernel_index = kernel7[k][l]#finding item in kernel\n",
    "                elif kernel_size==11:\n",
    "                    kernel_index = kernel11[k][l]#finding item in kernel\n",
    "            img_index = img[i+k][j+l]#item of image respect to kernal\n",
    "            prod = kernel_index * img_index\n",
    "            summ = summ + prod\n",
    "    if isShift == 4:#median of salt and pepper\n",
    "        summ = statistics.median(kernel_median)\n",
    "    return (summ)\n",
    "#selin<3 "
   ]
  },
  {
   "cell_type": "code",
   "execution_count": 7,
   "metadata": {},
   "outputs": [],
   "source": [
    "def filter2d(kernel_size,kernel_num,img_num,isShift):\n",
    "    img_row = shape_list[img_num].shape[0]\n",
    "    img_col = shape_list[img_num].shape[1]\n",
    "    mid_kernel = (kernel_size-1)/2\n",
    "    img = new_image[img_num*4+kernel_num]#right padded empty image\n",
    "    a=0\n",
    "    print(img_num,\" => \",end = \"\")# to track process\n",
    "    for i in range(img_row):#row of image\n",
    "        for j in range(img_col):#column of image\n",
    "            summ=apply_kernel(i,j,kernel_size,img_num,isShift)#sum of items prouct by kernel\n",
    "            img[i+int(mid_kernel)][j+int(mid_kernel)] = summ#placing sum to middle pixel of new image\n",
    "        if i%100==0:# to track process\n",
    "            print(img_row-i,end=\" \")\n",
    "    new_image[img_num*4+kernel_num] = img#replacing image to list\n",
    "    print(\"\")# to track process"
   ]
  },
  {
   "cell_type": "code",
   "execution_count": 9,
   "metadata": {},
   "outputs": [
    {
     "name": "stdout",
     "output_type": "stream",
     "text": [
      "0  => 512 412 312 212 112 12 \n",
      "1  => 256 156 56 \n",
      "2  => 400 300 200 100 \n",
      "3  => 512 412 312 212 112 12 \n",
      "4  => 240 140 40 \n",
      "done\n"
     ]
    }
   ],
   "source": [
    "#blur image 3x3\n",
    "kernel_num=0\n",
    "sub_img3 = []\n",
    "for img_num in range(len(shape_list)):#traverse all images\n",
    "    filter2d(3,kernel_num,img_num,0)#run blur filter QUESTION 1\n",
    "    sub_img3.append(pad_list[img_num*4+kernel_num] - new_image[img_num*4+kernel_num])#sutract blur image from original. QUESTION 2\n",
    "    \n",
    "    #display image\n",
    "    cv2.imshow('3x3', np.hstack((np.uint8(pad_list[img_num*4+kernel_num]),np.uint8(new_image[img_num*4+kernel_num]))))\n",
    "    cv2.waitKey(0)\n",
    "    cv2.destroyAllWindows() \n",
    "print('done')"
   ]
  },
  {
   "cell_type": "code",
   "execution_count": 9,
   "metadata": {},
   "outputs": [
    {
     "name": "stdout",
     "output_type": "stream",
     "text": [
      "0  => 512 412 312 212 112 12 \n",
      "1  => 256 156 56 \n",
      "2  => 400 300 200 100 \n",
      "3  => 512 412 312 212 112 12 \n",
      "4  => 240 140 40 \n",
      "done\n"
     ]
    }
   ],
   "source": [
    "#blur image 5x5\n",
    "kernel_num=1\n",
    "sub_img5 = []\n",
    "for img_num in range(len(shape_list)):#traverse all images\n",
    "    filter2d(5,kernel_num,img_num,0)#run blur filter QUESTION 1\n",
    "    sub_img5.append(pad_list[img_num*4+kernel_num] - new_image[img_num*4+kernel_num])#sutract blur image from original. QUESTION 2\n",
    "    \n",
    "    #display image\n",
    "    cv2.imshow('5x5', np.hstack((np.uint8(pad_list[img_num*4+kernel_num]),np.uint8(new_image[img_num*4+kernel_num]))))\n",
    "    cv2.waitKey(0)\n",
    "    cv2.destroyAllWindows() \n",
    "print('done')"
   ]
  },
  {
   "cell_type": "code",
   "execution_count": null,
   "metadata": {},
   "outputs": [
    {
     "name": "stdout",
     "output_type": "stream",
     "text": [
      "0  => 512 412 312 212 112 12 \n",
      "1  => 256 156 56 \n",
      "2  => 400 300 200 100 \n",
      "3  => 512 412 312 212 112 12 \n",
      "4  => 240 140 40 \n",
      "done\n"
     ]
    }
   ],
   "source": [
    "#blur image 7x7\n",
    "kernel_num=2\n",
    "sub_img7 = []\n",
    "for img_num in range(len(shape_list)):#traverse all images\n",
    "    filter2d(7,kernel_num,img_num,0)#run blur filter QUESTION 1\n",
    "    sub_img7.append(pad_list[img_num*4+kernel_num] - new_image[img_num*4+kernel_num])#sutract blur image from original. QUESTION 2\n",
    "    \n",
    "    #display image\n",
    "    cv2.imshow('7x7', np.hstack((np.uint8(pad_list[img_num*4+kernel_num]),np.uint8(new_image[img_num*4+kernel_num]))))\n",
    "    cv2.waitKey(0)\n",
    "    cv2.destroyAllWindows() \n",
    "print('done')"
   ]
  },
  {
   "cell_type": "code",
   "execution_count": null,
   "metadata": {},
   "outputs": [
    {
     "name": "stdout",
     "output_type": "stream",
     "text": [
      "0  => 512 412 312 "
     ]
    }
   ],
   "source": [
    "#blur image 11x11\n",
    "kernel_num=3\n",
    "sub_img11 = []\n",
    "for img_num in range(len(shape_list)):#traverse all images\n",
    "    filter2d(11,kernel_num,img_num,0)#run blur filter QUESTION 1\n",
    "    sub_img11.append(pad_list[img_num*4+kernel_num] - new_image[img_num*4+kernel_num])#sutract blur image from original. QUESTION 2\n",
    "    \n",
    "    #display image\n",
    "    cv2.imshow('11x11',np.hstack((np.uint8(pad_list[img_num*4+kernel_num]),np.uint8(new_image[img_num*4+kernel_num]))))\n",
    "    cv2.waitKey(0)\n",
    "    cv2.destroyAllWindows() \n",
    "print('done')"
   ]
  },
  {
   "cell_type": "code",
   "execution_count": 10,
   "metadata": {},
   "outputs": [],
   "source": [
    "for i in range(len(sub_img3)):#display question2\n",
    "    cv2.imshow('subtract 3', np.uint8(sub_img3[i]))\n",
    "    cv2.waitKey(0)\n",
    "    cv2.destroyAllWindows() "
   ]
  },
  {
   "cell_type": "code",
   "execution_count": null,
   "metadata": {},
   "outputs": [],
   "source": [
    "for i in range(len(sub_img5)):#display question2\n",
    "    cv2.imshow('subtract 5', np.uint8(sub_img5[i]))\n",
    "    cv2.waitKey(0)\n",
    "    cv2.destroyAllWindows() "
   ]
  },
  {
   "cell_type": "code",
   "execution_count": null,
   "metadata": {},
   "outputs": [],
   "source": [
    "for i in range(len(sub_img7)):#display question2\n",
    "    cv2.imshow('subtract 7', np.uint8(sub_img7[i]))\n",
    "    cv2.waitKey(0)\n",
    "    cv2.destroyAllWindows() "
   ]
  },
  {
   "cell_type": "code",
   "execution_count": null,
   "metadata": {},
   "outputs": [],
   "source": [
    "for i in range(len(sub_img11)):#display question2\n",
    "    cv2.imshow('subtract 11', np.uint8(sub_img11[i]))\n",
    "    cv2.waitKey(0)\n",
    "    cv2.destroyAllWindows() "
   ]
  },
  {
   "cell_type": "code",
   "execution_count": 11,
   "metadata": {},
   "outputs": [
    {
     "name": "stdout",
     "output_type": "stream",
     "text": [
      "0  => 512 412 312 212 112 12 \n",
      "1  => 256 156 56 \n",
      "2  => 400 300 200 100 \n",
      "3  => 512 412 312 212 112 12 \n",
      "4  => 240 140 40 \n"
     ]
    }
   ],
   "source": [
    "#shift up\n",
    "kernel_num=1\n",
    "shift_img = []\n",
    "for img_num in range(len(shape_list)):\n",
    "    filter2d(5,kernel_num,img_num,1)#run shift up filter QUESTION 3.1\n",
    "    shift_img.append(new_image[img_num*4+kernel_num])#add to list\n",
    "    \n",
    "    #display shifted images\n",
    "    cv2.imshow('shift up', np.hstack((np.uint8(pad_list[img_num*4+kernel_num]),(np.uint8(shift_img[img_num])))))\n",
    "    cv2.waitKey(0)\n",
    "    cv2.destroyAllWindows()"
   ]
  },
  {
   "cell_type": "code",
   "execution_count": null,
   "metadata": {},
   "outputs": [],
   "source": [
    "#shift right\n",
    "kernel_num=2\n",
    "shift_img = []\n",
    "for img_num in range(len(shape_list)):\n",
    "    filter2d(7,kernel_num,img_num,2)#run shift up filter QUESTION 3.2\n",
    "    shift_img.append(new_image[img_num*4+kernel_num])#add to list\n",
    "    \n",
    "    #display shifted images\n",
    "    cv2.imshow('shift right', np.hstack((np.uint8(shift_img[img_num]),(np.uint8(pad_list[img_num*4+kernel_num])))))\n",
    "    cv2.waitKey(0)\n",
    "    cv2.destroyAllWindows()"
   ]
  },
  {
   "cell_type": "code",
   "execution_count": 12,
   "metadata": {},
   "outputs": [
    {
     "name": "stdout",
     "output_type": "stream",
     "text": [
      "0  => 512 412 312 212 112 12 \n",
      "1  => 256 156 56 \n",
      "2  => 400 300 200 100 \n",
      "3  => 512 412 312 212 112 12 \n",
      "4  => 240 140 40 \n"
     ]
    }
   ],
   "source": [
    "#sharping 3x3 filter img\n",
    "kernel_num=0\n",
    "sharp_img = []\n",
    "for img_num in range(len(shape_list)):\n",
    "    filter2d(3,kernel_num,img_num,3)#run sharpening filter Question 4\n",
    "    sharp_img.append(new_image[img_num*4+kernel_num])#add to list\n",
    "    \n",
    "    #display shifted images\n",
    "    cv2.imshow('sharpining', np.hstack((np.uint8(pad_list[img_num*4+kernel_num]),(np.uint8(sharp_img[img_num])))))\n",
    "    cv2.waitKey(0)\n",
    "    cv2.destroyAllWindows()"
   ]
  },
  {
   "cell_type": "code",
   "execution_count": null,
   "metadata": {},
   "outputs": [
    {
     "name": "stdout",
     "output_type": "stream",
     "text": [
      "4  => 240 140 40 \n"
     ]
    }
   ],
   "source": [
    "#salt and pepper\n",
    "kernel_num = 0\n",
    "img_num = 4\n",
    "filter2d(3,kernel_num,img_num,4)#run salt and pepper filter\n",
    "\n",
    "#display cleared image\n",
    "cv2.imshow('salt and pepper', np.hstack((np.uint8(pad_list[img_num*4+kernel_num]),(np.uint8(new_image[img_num*4+kernel_num])))))\n",
    "cv2.waitKey(0)\n",
    "cv2.destroyAllWindows() "
   ]
  },
  {
   "cell_type": "code",
   "execution_count": null,
   "metadata": {},
   "outputs": [],
   "source": []
  }
 ],
 "metadata": {
  "kernelspec": {
   "display_name": "Python 3",
   "language": "python",
   "name": "python3"
  },
  "language_info": {
   "codemirror_mode": {
    "name": "ipython",
    "version": 3
   },
   "file_extension": ".py",
   "mimetype": "text/x-python",
   "name": "python",
   "nbconvert_exporter": "python",
   "pygments_lexer": "ipython3",
   "version": "3.7.1"
  }
 },
 "nbformat": 4,
 "nbformat_minor": 2
}
