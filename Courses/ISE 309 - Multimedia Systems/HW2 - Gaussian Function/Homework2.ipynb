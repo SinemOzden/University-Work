{
 "cells": [
  {
   "cell_type": "code",
   "execution_count": null,
   "metadata": {},
   "outputs": [],
   "source": [
    "import cv2\n",
    "import numpy as np\n",
    "import matplotlib.pyplot as plt\n",
    "import glob\n",
    "import os\n",
    "import math\n",
    "import statistics"
   ]
  },
  {
   "cell_type": "code",
   "execution_count": null,
   "metadata": {},
   "outputs": [],
   "source": [
    "img_dir = \"sample_images1\" # Enter Directory of all images \n",
    "data_path = os.path.join(img_dir,'*')\n",
    "img_files = glob.glob(data_path)"
   ]
  },
  {
   "cell_type": "code",
   "execution_count": null,
   "metadata": {},
   "outputs": [],
   "source": [
    "#read pictures\n",
    "shape_list = []\n",
    "pad_list = []\n",
    "for i in img_files:\n",
    "    img = cv2.imread(i,cv2.IMREAD_GRAYSCALE)\n",
    "    shape_list.append(img)\n",
    "#add padd\n",
    "for i in img_files:\n",
    "    img = cv2.imread(i,cv2.IMREAD_GRAYSCALE)\n",
    "    img3 = np.pad(img, pad_width=1, mode = 'constant', constant_values = 0)#adding 1 pixel pad\n",
    "    img5 = np.pad(img, pad_width=2, mode = 'constant', constant_values = 0)#adding 2 pixel pad\n",
    "    img7 = np.pad(img, pad_width=3, mode = 'constant', constant_values = 0)#adding 3 pixel pad\n",
    "    \n",
    "    #add padded pictures to a list\n",
    "    pad_list.append(img3)\n",
    "    pad_list.append(img5)\n",
    "    pad_list.append(img7)"
   ]
  },
  {
   "cell_type": "code",
   "execution_count": null,
   "metadata": {},
   "outputs": [],
   "source": [
    "#creating new image\n",
    "#listede 1 resmin 5 farkli cesidi var 5 e bol kac resim oldugunu bulmak icin\n",
    "new_image = []\n",
    "for i in range(len(pad_list)):\n",
    "    x_k = pad_list[i].shape[0]#istedigin image\n",
    "    y_k = pad_list[i].shape[1]\n",
    "    new_image.append(np.zeros((x_k,y_k),np.uint8))#tupplellardan boyut al"
   ]
  },
  {
   "cell_type": "code",
   "execution_count": 2,
   "metadata": {},
   "outputs": [],
   "source": [
    "def gaussian(x, mean, variance):\n",
    "    #calculation\n",
    "    first = np.exp(-np.power(x - mean, 2.) / (2 * variance))\n",
    "    second = math.sqrt(2*math.pi*variance)\n",
    "    return (first/second)    "
   ]
  },
  {
   "cell_type": "code",
   "execution_count": 7,
   "metadata": {},
   "outputs": [
    {
     "data": {
      "image/png": "[encoded data removed]",
      "text/plain": [
       "<Figure size 432x288 with 1 Axes>"
      ]
     },
     "metadata": {
      "needs_background": "light"
     },
     "output_type": "display_data"
    }
   ],
   "source": [
    "var = [0.2,1.0,5.0]\n",
    "x = np.linspace(-100,100)\n",
    "for i in var:\n",
    "    #creating plot\n",
    "    plt.plot(x, gaussian(x, 0, i))\n",
    "\n",
    "plt.show()"
   ]
  },
  {
   "cell_type": "code",
   "execution_count": null,
   "metadata": {},
   "outputs": [],
   "source": [
    "kernel3 =  [[1.0,2.0,1.0],[2.0,4.0,2.0],[1.0,2.0,1.0]]\n",
    "kernel5 =  [[1,1,2,1,1],[1,2,4,2,1],[2,4,8,4,2],[1,2,4,2,1],[1,1,2,1,1]]\n",
    "kernel7 =  [[1,1,2,2,2,1,1],[1,2,2,4,2,2,1],[2,2,4,8,4,2,2],[2,4,8,16,8,4,2],[2,2,4,8,4,2,2],[1,2,2,4,2,2,1],[1,1,2,2,2,1,1]]"
   ]
  },
  {
   "cell_type": "code",
   "execution_count": null,
   "metadata": {},
   "outputs": [],
   "source": [
    "#calculate the summation of all cells\n",
    "sum3 = 0\n",
    "for i in range(len(kernel3)):\n",
    "    for j in range(len(kernel3)):\n",
    "        sum3 += kernel3[i][j]\n",
    "print(sum3)\n",
    "\n",
    "sum5 = 0\n",
    "for i in range(len(kernel5)):\n",
    "    for j in range(len(kernel5)):\n",
    "        sum5 += kernel5[i][j]\n",
    "print(sum5)\n",
    "\n",
    "sum7 = 0\n",
    "for i in range(len(kernel7)):\n",
    "    for j in range(len(kernel7)):\n",
    "        sum7 += kernel7[i][j]\n",
    "print(sum7)"
   ]
  },
  {
   "cell_type": "code",
   "execution_count": null,
   "metadata": {},
   "outputs": [],
   "source": [
    "#divide all values in summation\n",
    "for i in range(len(kernel3)):\n",
    "    for j in range(len(kernel3)):\n",
    "        a = kernel3[i][j]/sum3\n",
    "        kernel3[i][j] = a\n",
    "        \n",
    "for i in range(len(kernel5)):\n",
    "    for j in range(len(kernel5)):\n",
    "        kernel5[i][j] = kernel5[i][j]/sum5\n",
    "        \n",
    "for i in range(len(kernel7)):\n",
    "    for j in range(len(kernel7)):\n",
    "        kernel7[i][j] = kernel7[i][j]/sum7"
   ]
  },
  {
   "cell_type": "code",
   "execution_count": null,
   "metadata": {},
   "outputs": [],
   "source": [
    "def apply_kernel(i, j,kernel_size,img_num):\n",
    "    summ=0\n",
    "    prod=0\n",
    "    kernel_index = 0\n",
    "    for k in range(kernel_size):#row of kernel\n",
    "        for l in range(kernel_size):#column of kernel\n",
    "            img = pad_list[img_num*3+kernel_num]#right padded image\n",
    "            \n",
    "            if kernel_size==3:\n",
    "                kernel_index = kernel3[k][l]#finding item in kernel\n",
    "            elif kernel_size==5:\n",
    "                kernel_index = kernel5[k][l]#finding item in kernel\n",
    "            elif kernel_size==7:\n",
    "                kernel_index = kernel7[k][l]#finding item in kernel\n",
    "            elif kernel_size==11:\n",
    "                kernel_index = kernel11[k][l]#finding item in kernel\n",
    "                \n",
    "            img_index = img[i+k][j+l]#item of image respect to kernal\n",
    "            prod = kernel_index * img_index\n",
    "            summ = summ + prod\n",
    "    return (summ)"
   ]
  },
  {
   "cell_type": "code",
   "execution_count": null,
   "metadata": {},
   "outputs": [],
   "source": [
    "def filter2d(kernel_size,kernel_num,img_num):\n",
    "    img_row = shape_list[img_num].shape[0]\n",
    "    img_col = shape_list[img_num].shape[1]\n",
    "    mid_kernel = (kernel_size-1)/2\n",
    "    img = new_image[img_num*3+kernel_num]#right padded empty image\n",
    "    a=0\n",
    "    print(img_num,\" => \",end = \"\")# to track process\n",
    "    for i in range(img_row):#row of image\n",
    "        for j in range(img_col):#column of image\n",
    "            summ=apply_kernel(i,j,kernel_size,img_num)#sum of items prouct by kernel\n",
    "            img[i+int(mid_kernel)][j+int(mid_kernel)] = summ#placing sum to middle pixel of new image\n",
    "        if i%100==0:# to track process\n",
    "            print(img_row-i,end=\" \")\n",
    "    new_image[img_num*3+kernel_num] = img#replacing image to list\n",
    "    print(\"\")# to track process"
   ]
  },
  {
   "cell_type": "code",
   "execution_count": null,
   "metadata": {},
   "outputs": [],
   "source": [
    "#blur image 3x3\n",
    "kernel_num=0\n",
    "blur3 = []\n",
    "for img_num in range(len(shape_list)):#traverse all images\n",
    "    filter2d(3,kernel_num,img_num)#run blur filter QUESTION 1\n",
    "    \n",
    "    blur3.append(new_image[img_num*3+kernel_num])\n",
    "    #display image\n",
    "    cv2.imshow('3x3', np.hstack((np.uint8(pad_list[img_num*3+kernel_num]),np.uint8(blur3[img_num]))))\n",
    "    cv2.waitKey(0)\n",
    "    cv2.destroyAllWindows() \n",
    "print('done')"
   ]
  },
  {
   "cell_type": "code",
   "execution_count": null,
   "metadata": {},
   "outputs": [],
   "source": [
    "#blur image 5x5\n",
    "kernel_num=1\n",
    "blur5 = []\n",
    "for img_num in range(len(shape_list)):#traverse all images\n",
    "    filter2d(5,kernel_num,img_num)#run blur filter QUESTION 1\n",
    "    \n",
    "    blur5.append(new_image[img_num*3+kernel_num])\n",
    "    \n",
    "    #display image\n",
    "    cv2.imshow('5x5', np.hstack((np.uint8(pad_list[img_num*3+kernel_num]),np.uint8(new_image[img_num*3+kernel_num]))))\n",
    "    cv2.waitKey(0)\n",
    "    cv2.destroyAllWindows() \n",
    "print('done')"
   ]
  },
  {
   "cell_type": "code",
   "execution_count": null,
   "metadata": {},
   "outputs": [],
   "source": [
    "#blur image 7x7\n",
    "kernel_num=2\n",
    "blur7 = []\n",
    "for img_num in range(len(shape_list)):#traverse all images\n",
    "    filter2d(7,kernel_num,img_num)#run blur filter QUESTION 1\n",
    "    \n",
    "    blur7.append(new_image[img_num*3+kernel_num])\n",
    "    \n",
    "    #display image\n",
    "    cv2.imshow('7x7', np.hstack((np.uint8(pad_list[img_num*3+kernel_num]),np.uint8(new_image[img_num*3+kernel_num]))))\n",
    "    cv2.waitKey(0)\n",
    "    cv2.destroyAllWindows() \n",
    "print('done')"
   ]
  },
  {
   "cell_type": "code",
   "execution_count": null,
   "metadata": {},
   "outputs": [],
   "source": [
    "#sharping 3x3 filter img\n",
    "sharp3 = []\n",
    "alpha = [0.1,0.5,2]\n",
    "lent = len(alpha)\n",
    "for i in range(len(blur3)):\n",
    "    for a in range(lent):\n",
    "        sharp3.append(pad_list[i*3] - alpha[a]*(pad_list[i*3] - blur3[i]))\n",
    "\n",
    "    #display shifted images\n",
    "    cv2.imshow('0.1 0.5 1', np.hstack((np.uint8(sharp3[i*lent]),np.uint8(sharp3[i*lent+1]),np.uint8(sharp3[i*lent+2]))))\n",
    "    cv2.waitKey(0)\n",
    "    cv2.destroyAllWindows()"
   ]
  },
  {
   "cell_type": "code",
   "execution_count": null,
   "metadata": {},
   "outputs": [],
   "source": [
    "sharp5 = []\n",
    "alpha = [0.1,0.5,2]\n",
    "lent = len(alpha)\n",
    "for i in range(len(blur5)):\n",
    "    for a in range(lent):\n",
    "        sharp5.append(pad_list[i*3+1] - alpha[a]*(pad_list[i*3+1] - blur5[i]))\n",
    "\n",
    "    #display shifted images\n",
    "    cv2.imshow('0.1 0.5 1', np.hstack((np.uint8(sharp5[i*lent]),np.uint8(sharp5[i*lent+1]),np.uint8(sharp5[i*lent+2]))))\n",
    "    cv2.waitKey(0)\n",
    "    cv2.destroyAllWindows()"
   ]
  },
  {
   "cell_type": "code",
   "execution_count": null,
   "metadata": {},
   "outputs": [],
   "source": [
    "sharp7 = []\n",
    "alpha = [0.1,0.5,2]\n",
    "lent = len(alpha)\n",
    "for i in range(len(blur7)):\n",
    "    for a in range(lent):\n",
    "        sharp7.append(pad_list[i*3+2] - alpha[a]*(pad_list[i*3+2] - blur7[i]))\n",
    "\n",
    "    #display shifted images\n",
    "    cv2.imshow('0.1 0.5 1', np.hstack((np.uint8(sharp7[i*lent]),np.uint8(sharp7[i*lent+1]),np.uint8(sharp7[i*lent+2]))))\n",
    "    cv2.waitKey(0)\n",
    "    cv2.destroyAllWindows()"
   ]
  },
  {
   "cell_type": "code",
   "execution_count": null,
   "metadata": {},
   "outputs": [],
   "source": [
    "img_dir = \"sample_images2\" # Enter Directory of all images \n",
    "data_path = os.path.join(img_dir,'*')\n",
    "img_files2 = glob.glob(data_path)"
   ]
  },
  {
   "cell_type": "code",
   "execution_count": null,
   "metadata": {},
   "outputs": [],
   "source": [
    "#read pictures\n",
    "shape_list2 = []\n",
    "pad_list2 = []\n",
    "for i in img_files2:\n",
    "    img2 = cv2.imread(i,cv2.IMREAD_GRAYSCALE)\n",
    "    shape_list2.append(img2)\n",
    "#add padd\n",
    "for i in img_files2:\n",
    "    img2 = cv2.imread(i,cv2.IMREAD_GRAYSCALE)\n",
    "    img33 = np.pad(img2, pad_width=1, mode = 'constant', constant_values = 0)#adding 1 pixel pad\n",
    "    img55 = np.pad(img2, pad_width=2, mode = 'constant', constant_values = 0)#adding 2 pixel pad\n",
    "    img77 = np.pad(img2, pad_width=3, mode = 'constant', constant_values = 0)#adding 3 pixel pad\n",
    "    \n",
    "    #add padded pictures to a list\n",
    "    pad_list2.append(img33)\n",
    "    pad_list2.append(img55)\n",
    "    pad_list2.append(img77)"
   ]
  },
  {
   "cell_type": "code",
   "execution_count": null,
   "metadata": {},
   "outputs": [],
   "source": [
    "#creating new image\n",
    "#listede 1 resmin 5 farkli cesidi var 5 e bol kac resim oldugunu bulmak icin\n",
    "new_image2 = []\n",
    "for i in range(len(pad_list2)):\n",
    "    x_k2 = pad_list2[i].shape[0]#istedigin image\n",
    "    y_k2 = pad_list2[i].shape[1]\n",
    "    new_image2.append(np.zeros((x_k2,y_k2),np.uint8))#tupplellardan boyut al"
   ]
  },
  {
   "cell_type": "code",
   "execution_count": null,
   "metadata": {},
   "outputs": [],
   "source": [
    "#list for median\n",
    "kernel_median3 = [0]*9\n",
    "kernel_median5 = [0]*25\n",
    "kernel_median7 = [0]*49"
   ]
  },
  {
   "cell_type": "code",
   "execution_count": null,
   "metadata": {},
   "outputs": [],
   "source": [
    "def apply_kernel2(i, j,kernel_size,img_num):\n",
    "    summ=0\n",
    "    prod=0\n",
    "    kernel_index = 0\n",
    "    s=0\n",
    "    for k in range(kernel_size):#row of kernel\n",
    "        for l in range(kernel_size):#column of kernel\n",
    "            img2 = pad_list2[img_num*3+kernel_num]#right padded \n",
    "            #salt and pepper filter\n",
    "            if kernel_size==3:\n",
    "                kernel_median3[s] = img2[i+k][j+l]#adding item in kernel\n",
    "            elif kernel_size==5:\n",
    "                kernel_median5[s] = img2[i+k][j+l]#adding item in kernel\n",
    "            elif kernel_size==7:\n",
    "                kernel_median7[s] = img2[i+k][j+l]#adding item in kernel\n",
    "            s+=1\n",
    "            img_index = img2[i+k][j+l]#item of image respect to kernal\n",
    "            prod = kernel_index * img_index\n",
    "            summ = summ + prod\n",
    "    if kernel_size==3:\n",
    "        summ = statistics.median(kernel_median3)\n",
    "    elif kernel_size==5:\n",
    "        summ = statistics.median(kernel_median5)\n",
    "    elif kernel_size==7:      \n",
    "        summ = statistics.median(kernel_median7)\n",
    "    return (summ)"
   ]
  },
  {
   "cell_type": "code",
   "execution_count": null,
   "metadata": {},
   "outputs": [],
   "source": [
    "def filter4d(kernel_size,kernel_num,img_num):\n",
    "    img_row = shape_list2[img_num].shape[0]\n",
    "    img_col = shape_list2[img_num].shape[1]\n",
    "    mid_kernel = (kernel_size-1)/2\n",
    "    img2 = new_image2[img_num*3+kernel_num]#right padded empty image\n",
    "    a=0\n",
    "    print(img_num,\" => \",end = \"\")# to track process\n",
    "    for i in range(img_row):#row of image\n",
    "        for j in range(img_col):#column of image\n",
    "            summ=apply_kernel2(i,j,kernel_size,img_num)#sum of items prouct by kernel\n",
    "            img2[i+int(mid_kernel)][j+int(mid_kernel)] = summ#placing sum to middle pixel of new image\n",
    "        if i%100==0:# to track process\n",
    "            print(img_row-i,end=\" \")\n",
    "    new_image2[img_num*3+kernel_num] = img2#replacing image to list\n",
    "    print(\"\")# to track process"
   ]
  },
  {
   "cell_type": "code",
   "execution_count": null,
   "metadata": {},
   "outputs": [],
   "source": [
    "#salt and pepper\n",
    "kernel_num = 0\n",
    "for img_num in range(len(shape_list2)):\n",
    "    filter4d(3,kernel_num,img_num)#run salt and pepper filter\n",
    "    \n",
    "    #display cleared image\n",
    "    cv2.imshow('salt and pepper', np.hstack((np.uint8(pad_list2[img_num*3+kernel_num]),(np.uint8(new_image2[img_num*3+kernel_num])))))\n",
    "    cv2.waitKey(0)\n",
    "    cv2.destroyAllWindows() "
   ]
  },
  {
   "cell_type": "code",
   "execution_count": null,
   "metadata": {},
   "outputs": [],
   "source": [
    "#salt and pepper\n",
    "kernel_num = 1\n",
    "for img_num in range(len(shape_list2)):\n",
    "    filter4d(5,kernel_num,img_num)#run salt and pepper filter\n",
    "    \n",
    "    #display cleared image\n",
    "    cv2.imshow('salt and pepper', np.hstack((np.uint8(pad_list2[img_num*3+kernel_num]),(np.uint8(new_image2[img_num*3+kernel_num])))))\n",
    "    cv2.waitKey(0)\n",
    "    cv2.destroyAllWindows() "
   ]
  },
  {
   "cell_type": "code",
   "execution_count": null,
   "metadata": {},
   "outputs": [],
   "source": [
    "#salt and pepper\n",
    "kernel_num = 2\n",
    "for img_num in range(len(shape_list2)):\n",
    "    filter4d(7,kernel_num,img_num)#run salt and pepper filter\n",
    "    \n",
    "    #display cleared image\n",
    "    cv2.imshow('salt and pepper', np.hstack((np.uint8(pad_list2[img_num*3+kernel_num]),(np.uint8(new_image2[img_num*3+kernel_num])))))\n",
    "    cv2.waitKey(0)\n",
    "    cv2.destroyAllWindows() "
   ]
  }
 ],
 "metadata": {
  "kernelspec": {
   "display_name": "Python 3",
   "language": "python",
   "name": "python3"
  },
  "language_info": {
   "codemirror_mode": {
    "name": "ipython",
    "version": 3
   },
   "file_extension": ".py",
   "mimetype": "text/x-python",
   "name": "python",
   "nbconvert_exporter": "python",
   "pygments_lexer": "ipython3",
   "version": "3.7.1"
  }
 },
 "nbformat": 4,
 "nbformat_minor": 2
}
